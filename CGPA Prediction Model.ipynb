{
  "nbformat": 4,
  "nbformat_minor": 0,
  "metadata": {
    "colab": {
      "name": "CS19126.ipynb",
      "provenance": [],
      "collapsed_sections": []
    },
    "kernelspec": {
      "name": "python3",
      "display_name": "Python 3"
    },
    "language_info": {
      "name": "python"
    }
  },
  "cells": [
    {
      "cell_type": "markdown",
      "source": [
        "# `Group Members`\n",
        "# CS-19107     Aiman\n",
        "# CS-19126     Muhammad Umar\n",
        "# CS-19131     Mir Shahnawaz Abbasi"
      ],
      "metadata": {
        "id": "05G1IvZfGGts"
      }
    },
    {
      "cell_type": "code",
      "execution_count": 153,
      "metadata": {
        "id": "yeI6aFPmjC-g"
      },
      "outputs": [],
      "source": [
        "#Importing all libraries here that will be used in a different models\n",
        "import pandas as pd\n",
        "import numpy as np\n",
        "from sklearn.linear_model import LinearRegression\n",
        "from sklearn.svm import SVR\n",
        "from sklearn.model_selection import train_test_split\n",
        "import matplotlib.pyplot as plt\n",
        "from sklearn.metrics import mean_squared_error\n",
        "from sklearn.metrics import mean_absolute_error\n",
        "from random import randint\n",
        "from sklearn.ensemble import RandomForestRegressor"
      ]
    },
    {
      "cell_type": "code",
      "source": [
        "# defining data\n",
        "dataset=pd.read_csv('The_Grades_Dataset.csv')"
      ],
      "metadata": {
        "id": "1CWQRJ35jFUO"
      },
      "execution_count": 154,
      "outputs": []
    },
    {
      "cell_type": "markdown",
      "source": [
        "# `Model 3`\n",
        "\n",
        "---\n",
        "\n",
        "Predicting CGPA of 4th Year \n",
        "\n",
        "# `Applying Linear Regression`"
      ],
      "metadata": {
        "id": "KsqD8ebXKcLN"
      }
    },
    {
      "cell_type": "code",
      "source": [
        "dataset.head()    #Showing first 5 rows of the dataset"
      ],
      "metadata": {
        "id": "oTe48VQgjaJZ",
        "colab": {
          "base_uri": "https://localhost:8080/",
          "height": 235
        },
        "outputId": "218c0e74-57fe-4efb-a0d1-50ebd5953c07"
      },
      "execution_count": 155,
      "outputs": [
        {
          "output_type": "execute_result",
          "data": {
            "text/plain": [
              "   Seat No. PH-121 HS-101 CY-105 HS-105/12 MT-111 CS-105 CS-106 EL-102 EE-119  \\\n",
              "0  CS-97001     B-     D+     C-         C     C-     D+      D     C-     B-   \n",
              "1  CS-97002      A      D     D+         D     B-      C      D      A     D+   \n",
              "2  CS-97003      A      B      A        B-     B+      A     B-     B+     A-   \n",
              "3  CS-97004      D     C+     D+         D      D     A-     D+     C-      D   \n",
              "4  CS-97005     A-     A-     A-        B+      A      A     A-     B+      A   \n",
              "\n",
              "   ... CS-312 CS-317 CS-403 CS-421 CS-406 CS-414 CS-419 CS-423 CS-412   CGPA  \n",
              "0  ...     C-     C-     C-     C-     A-      A     C-      B     A-  2.205  \n",
              "1  ...     D+      D      C      D     A-     B-      C      C      B  2.008  \n",
              "2  ...      B      B      A      C      A      A      A     A-      A  3.608  \n",
              "3  ...     D+      C     D+     C-     B-      B     C+     C+     C+  1.906  \n",
              "4  ...     B-     B+     B+     B-     A-      A     A-     A-      A  3.448  \n",
              "\n",
              "[5 rows x 43 columns]"
            ],
            "text/html": [
              "\n",
              "  <div id=\"df-cdae64cd-2e57-4f0a-af42-d84fee692957\">\n",
              "    <div class=\"colab-df-container\">\n",
              "      <div>\n",
              "<style scoped>\n",
              "    .dataframe tbody tr th:only-of-type {\n",
              "        vertical-align: middle;\n",
              "    }\n",
              "\n",
              "    .dataframe tbody tr th {\n",
              "        vertical-align: top;\n",
              "    }\n",
              "\n",
              "    .dataframe thead th {\n",
              "        text-align: right;\n",
              "    }\n",
              "</style>\n",
              "<table border=\"1\" class=\"dataframe\">\n",
              "  <thead>\n",
              "    <tr style=\"text-align: right;\">\n",
              "      <th></th>\n",
              "      <th>Seat No.</th>\n",
              "      <th>PH-121</th>\n",
              "      <th>HS-101</th>\n",
              "      <th>CY-105</th>\n",
              "      <th>HS-105/12</th>\n",
              "      <th>MT-111</th>\n",
              "      <th>CS-105</th>\n",
              "      <th>CS-106</th>\n",
              "      <th>EL-102</th>\n",
              "      <th>EE-119</th>\n",
              "      <th>...</th>\n",
              "      <th>CS-312</th>\n",
              "      <th>CS-317</th>\n",
              "      <th>CS-403</th>\n",
              "      <th>CS-421</th>\n",
              "      <th>CS-406</th>\n",
              "      <th>CS-414</th>\n",
              "      <th>CS-419</th>\n",
              "      <th>CS-423</th>\n",
              "      <th>CS-412</th>\n",
              "      <th>CGPA</th>\n",
              "    </tr>\n",
              "  </thead>\n",
              "  <tbody>\n",
              "    <tr>\n",
              "      <th>0</th>\n",
              "      <td>CS-97001</td>\n",
              "      <td>B-</td>\n",
              "      <td>D+</td>\n",
              "      <td>C-</td>\n",
              "      <td>C</td>\n",
              "      <td>C-</td>\n",
              "      <td>D+</td>\n",
              "      <td>D</td>\n",
              "      <td>C-</td>\n",
              "      <td>B-</td>\n",
              "      <td>...</td>\n",
              "      <td>C-</td>\n",
              "      <td>C-</td>\n",
              "      <td>C-</td>\n",
              "      <td>C-</td>\n",
              "      <td>A-</td>\n",
              "      <td>A</td>\n",
              "      <td>C-</td>\n",
              "      <td>B</td>\n",
              "      <td>A-</td>\n",
              "      <td>2.205</td>\n",
              "    </tr>\n",
              "    <tr>\n",
              "      <th>1</th>\n",
              "      <td>CS-97002</td>\n",
              "      <td>A</td>\n",
              "      <td>D</td>\n",
              "      <td>D+</td>\n",
              "      <td>D</td>\n",
              "      <td>B-</td>\n",
              "      <td>C</td>\n",
              "      <td>D</td>\n",
              "      <td>A</td>\n",
              "      <td>D+</td>\n",
              "      <td>...</td>\n",
              "      <td>D+</td>\n",
              "      <td>D</td>\n",
              "      <td>C</td>\n",
              "      <td>D</td>\n",
              "      <td>A-</td>\n",
              "      <td>B-</td>\n",
              "      <td>C</td>\n",
              "      <td>C</td>\n",
              "      <td>B</td>\n",
              "      <td>2.008</td>\n",
              "    </tr>\n",
              "    <tr>\n",
              "      <th>2</th>\n",
              "      <td>CS-97003</td>\n",
              "      <td>A</td>\n",
              "      <td>B</td>\n",
              "      <td>A</td>\n",
              "      <td>B-</td>\n",
              "      <td>B+</td>\n",
              "      <td>A</td>\n",
              "      <td>B-</td>\n",
              "      <td>B+</td>\n",
              "      <td>A-</td>\n",
              "      <td>...</td>\n",
              "      <td>B</td>\n",
              "      <td>B</td>\n",
              "      <td>A</td>\n",
              "      <td>C</td>\n",
              "      <td>A</td>\n",
              "      <td>A</td>\n",
              "      <td>A</td>\n",
              "      <td>A-</td>\n",
              "      <td>A</td>\n",
              "      <td>3.608</td>\n",
              "    </tr>\n",
              "    <tr>\n",
              "      <th>3</th>\n",
              "      <td>CS-97004</td>\n",
              "      <td>D</td>\n",
              "      <td>C+</td>\n",
              "      <td>D+</td>\n",
              "      <td>D</td>\n",
              "      <td>D</td>\n",
              "      <td>A-</td>\n",
              "      <td>D+</td>\n",
              "      <td>C-</td>\n",
              "      <td>D</td>\n",
              "      <td>...</td>\n",
              "      <td>D+</td>\n",
              "      <td>C</td>\n",
              "      <td>D+</td>\n",
              "      <td>C-</td>\n",
              "      <td>B-</td>\n",
              "      <td>B</td>\n",
              "      <td>C+</td>\n",
              "      <td>C+</td>\n",
              "      <td>C+</td>\n",
              "      <td>1.906</td>\n",
              "    </tr>\n",
              "    <tr>\n",
              "      <th>4</th>\n",
              "      <td>CS-97005</td>\n",
              "      <td>A-</td>\n",
              "      <td>A-</td>\n",
              "      <td>A-</td>\n",
              "      <td>B+</td>\n",
              "      <td>A</td>\n",
              "      <td>A</td>\n",
              "      <td>A-</td>\n",
              "      <td>B+</td>\n",
              "      <td>A</td>\n",
              "      <td>...</td>\n",
              "      <td>B-</td>\n",
              "      <td>B+</td>\n",
              "      <td>B+</td>\n",
              "      <td>B-</td>\n",
              "      <td>A-</td>\n",
              "      <td>A</td>\n",
              "      <td>A-</td>\n",
              "      <td>A-</td>\n",
              "      <td>A</td>\n",
              "      <td>3.448</td>\n",
              "    </tr>\n",
              "  </tbody>\n",
              "</table>\n",
              "<p>5 rows × 43 columns</p>\n",
              "</div>\n",
              "      <button class=\"colab-df-convert\" onclick=\"convertToInteractive('df-cdae64cd-2e57-4f0a-af42-d84fee692957')\"\n",
              "              title=\"Convert this dataframe to an interactive table.\"\n",
              "              style=\"display:none;\">\n",
              "        \n",
              "  <svg xmlns=\"http://www.w3.org/2000/svg\" height=\"24px\"viewBox=\"0 0 24 24\"\n",
              "       width=\"24px\">\n",
              "    <path d=\"M0 0h24v24H0V0z\" fill=\"none\"/>\n",
              "    <path d=\"M18.56 5.44l.94 2.06.94-2.06 2.06-.94-2.06-.94-.94-2.06-.94 2.06-2.06.94zm-11 1L8.5 8.5l.94-2.06 2.06-.94-2.06-.94L8.5 2.5l-.94 2.06-2.06.94zm10 10l.94 2.06.94-2.06 2.06-.94-2.06-.94-.94-2.06-.94 2.06-2.06.94z\"/><path d=\"M17.41 7.96l-1.37-1.37c-.4-.4-.92-.59-1.43-.59-.52 0-1.04.2-1.43.59L10.3 9.45l-7.72 7.72c-.78.78-.78 2.05 0 2.83L4 21.41c.39.39.9.59 1.41.59.51 0 1.02-.2 1.41-.59l7.78-7.78 2.81-2.81c.8-.78.8-2.07 0-2.86zM5.41 20L4 18.59l7.72-7.72 1.47 1.35L5.41 20z\"/>\n",
              "  </svg>\n",
              "      </button>\n",
              "      \n",
              "  <style>\n",
              "    .colab-df-container {\n",
              "      display:flex;\n",
              "      flex-wrap:wrap;\n",
              "      gap: 12px;\n",
              "    }\n",
              "\n",
              "    .colab-df-convert {\n",
              "      background-color: #E8F0FE;\n",
              "      border: none;\n",
              "      border-radius: 50%;\n",
              "      cursor: pointer;\n",
              "      display: none;\n",
              "      fill: #1967D2;\n",
              "      height: 32px;\n",
              "      padding: 0 0 0 0;\n",
              "      width: 32px;\n",
              "    }\n",
              "\n",
              "    .colab-df-convert:hover {\n",
              "      background-color: #E2EBFA;\n",
              "      box-shadow: 0px 1px 2px rgba(60, 64, 67, 0.3), 0px 1px 3px 1px rgba(60, 64, 67, 0.15);\n",
              "      fill: #174EA6;\n",
              "    }\n",
              "\n",
              "    [theme=dark] .colab-df-convert {\n",
              "      background-color: #3B4455;\n",
              "      fill: #D2E3FC;\n",
              "    }\n",
              "\n",
              "    [theme=dark] .colab-df-convert:hover {\n",
              "      background-color: #434B5C;\n",
              "      box-shadow: 0px 1px 3px 1px rgba(0, 0, 0, 0.15);\n",
              "      filter: drop-shadow(0px 1px 2px rgba(0, 0, 0, 0.3));\n",
              "      fill: #FFFFFF;\n",
              "    }\n",
              "  </style>\n",
              "\n",
              "      <script>\n",
              "        const buttonEl =\n",
              "          document.querySelector('#df-cdae64cd-2e57-4f0a-af42-d84fee692957 button.colab-df-convert');\n",
              "        buttonEl.style.display =\n",
              "          google.colab.kernel.accessAllowed ? 'block' : 'none';\n",
              "\n",
              "        async function convertToInteractive(key) {\n",
              "          const element = document.querySelector('#df-cdae64cd-2e57-4f0a-af42-d84fee692957');\n",
              "          const dataTable =\n",
              "            await google.colab.kernel.invokeFunction('convertToInteractive',\n",
              "                                                     [key], {});\n",
              "          if (!dataTable) return;\n",
              "\n",
              "          const docLinkHtml = 'Like what you see? Visit the ' +\n",
              "            '<a target=\"_blank\" href=https://colab.research.google.com/notebooks/data_table.ipynb>data table notebook</a>'\n",
              "            + ' to learn more about interactive tables.';\n",
              "          element.innerHTML = '';\n",
              "          dataTable['output_type'] = 'display_data';\n",
              "          await google.colab.output.renderOutput(dataTable, element);\n",
              "          const docLink = document.createElement('div');\n",
              "          docLink.innerHTML = docLinkHtml;\n",
              "          element.appendChild(docLink);\n",
              "        }\n",
              "      </script>\n",
              "    </div>\n",
              "  </div>\n",
              "  "
            ]
          },
          "metadata": {},
          "execution_count": 155
        }
      ]
    },
    {
      "cell_type": "code",
      "source": [
        "# specifying input features in variable x and target in varibale y\n",
        "\n",
        "x= dataset.iloc[:,1:-8]\n",
        "y=dataset[['CGPA']]\n",
        "x=x.drop(\"MT-442\" , axis=1)    "
      ],
      "metadata": {
        "id": "IguwZSOCl11p"
      },
      "execution_count": 156,
      "outputs": []
    },
    {
      "cell_type": "code",
      "source": [
        "x"
      ],
      "metadata": {
        "id": "fG-KdMiJl5qO",
        "colab": {
          "base_uri": "https://localhost:8080/",
          "height": 424
        },
        "outputId": "3e1904d7-a241-4dcb-bbf8-96fedcd8a0a7"
      },
      "execution_count": 157,
      "outputs": [
        {
          "output_type": "execute_result",
          "data": {
            "text/plain": [
              "    PH-121 HS-101 CY-105 HS-105/12 MT-111 CS-105 CS-106 EL-102 EE-119 ME-107  \\\n",
              "0       B-     D+     C-         C     C-     D+      D     C-     B-     C-   \n",
              "1        A      D     D+         D     B-      C      D      A     D+      D   \n",
              "2        A      B      A        B-     B+      A     B-     B+     A-     A-   \n",
              "3        D     C+     D+         D      D     A-     D+     C-      D     C+   \n",
              "4       A-     A-     A-        B+      A      A     A-     B+      A     A-   \n",
              "..     ...    ...    ...       ...    ...    ...    ...    ...    ...    ...   \n",
              "566      B      A      A        A-     A+      A     A-     A-     A+     B+   \n",
              "567     A+      A      A         A      A      A      A     A-      A      A   \n",
              "568      B      A     A-        B+      A      A      A      A      A      B   \n",
              "569      A     B+      D         A      D     D+     B-     C-     B-     C-   \n",
              "570      C      D      D         C      C     D+      B     C+      C     D+   \n",
              "\n",
              "     ... EF-303 HS-304 CS-301 CS-302 TC-383 EL-332 CS-318 CS-306 CS-312 CS-317  \n",
              "0    ...     C-     C+      B      C     C+      C     C-      C     C-     C-  \n",
              "1    ...      D     C-     A-     D+     C-      C     A-      D     D+      D  \n",
              "2    ...     C+      A     B+     A-      B     B+     A-     A-      B      B  \n",
              "3    ...      D     B-      D     B-     D+     D+     B+     C-     D+      C  \n",
              "4    ...     C-     A-     B-     A-     C+     A-     B-     A-     B-     B+  \n",
              "..   ...    ...    ...    ...    ...    ...    ...    ...    ...    ...    ...  \n",
              "566  ...      B     A-     A-      A     A+      A      A     B+     A-     A-  \n",
              "567  ...      A      A      A      A      A      A     A+     A-     B+     B+  \n",
              "568  ...      B     B-     B+     B+      A      B     C+     B+     A-      B  \n",
              "569  ...      D      C      C     C+     C-      D     B-     B+      D      B  \n",
              "570  ...      D      F      D      D      C      F     C-     D+     C+      C  \n",
              "\n",
              "[571 rows x 33 columns]"
            ],
            "text/html": [
              "\n",
              "  <div id=\"df-3259e04b-6797-4077-9f33-6496ec2e9dc3\">\n",
              "    <div class=\"colab-df-container\">\n",
              "      <div>\n",
              "<style scoped>\n",
              "    .dataframe tbody tr th:only-of-type {\n",
              "        vertical-align: middle;\n",
              "    }\n",
              "\n",
              "    .dataframe tbody tr th {\n",
              "        vertical-align: top;\n",
              "    }\n",
              "\n",
              "    .dataframe thead th {\n",
              "        text-align: right;\n",
              "    }\n",
              "</style>\n",
              "<table border=\"1\" class=\"dataframe\">\n",
              "  <thead>\n",
              "    <tr style=\"text-align: right;\">\n",
              "      <th></th>\n",
              "      <th>PH-121</th>\n",
              "      <th>HS-101</th>\n",
              "      <th>CY-105</th>\n",
              "      <th>HS-105/12</th>\n",
              "      <th>MT-111</th>\n",
              "      <th>CS-105</th>\n",
              "      <th>CS-106</th>\n",
              "      <th>EL-102</th>\n",
              "      <th>EE-119</th>\n",
              "      <th>ME-107</th>\n",
              "      <th>...</th>\n",
              "      <th>EF-303</th>\n",
              "      <th>HS-304</th>\n",
              "      <th>CS-301</th>\n",
              "      <th>CS-302</th>\n",
              "      <th>TC-383</th>\n",
              "      <th>EL-332</th>\n",
              "      <th>CS-318</th>\n",
              "      <th>CS-306</th>\n",
              "      <th>CS-312</th>\n",
              "      <th>CS-317</th>\n",
              "    </tr>\n",
              "  </thead>\n",
              "  <tbody>\n",
              "    <tr>\n",
              "      <th>0</th>\n",
              "      <td>B-</td>\n",
              "      <td>D+</td>\n",
              "      <td>C-</td>\n",
              "      <td>C</td>\n",
              "      <td>C-</td>\n",
              "      <td>D+</td>\n",
              "      <td>D</td>\n",
              "      <td>C-</td>\n",
              "      <td>B-</td>\n",
              "      <td>C-</td>\n",
              "      <td>...</td>\n",
              "      <td>C-</td>\n",
              "      <td>C+</td>\n",
              "      <td>B</td>\n",
              "      <td>C</td>\n",
              "      <td>C+</td>\n",
              "      <td>C</td>\n",
              "      <td>C-</td>\n",
              "      <td>C</td>\n",
              "      <td>C-</td>\n",
              "      <td>C-</td>\n",
              "    </tr>\n",
              "    <tr>\n",
              "      <th>1</th>\n",
              "      <td>A</td>\n",
              "      <td>D</td>\n",
              "      <td>D+</td>\n",
              "      <td>D</td>\n",
              "      <td>B-</td>\n",
              "      <td>C</td>\n",
              "      <td>D</td>\n",
              "      <td>A</td>\n",
              "      <td>D+</td>\n",
              "      <td>D</td>\n",
              "      <td>...</td>\n",
              "      <td>D</td>\n",
              "      <td>C-</td>\n",
              "      <td>A-</td>\n",
              "      <td>D+</td>\n",
              "      <td>C-</td>\n",
              "      <td>C</td>\n",
              "      <td>A-</td>\n",
              "      <td>D</td>\n",
              "      <td>D+</td>\n",
              "      <td>D</td>\n",
              "    </tr>\n",
              "    <tr>\n",
              "      <th>2</th>\n",
              "      <td>A</td>\n",
              "      <td>B</td>\n",
              "      <td>A</td>\n",
              "      <td>B-</td>\n",
              "      <td>B+</td>\n",
              "      <td>A</td>\n",
              "      <td>B-</td>\n",
              "      <td>B+</td>\n",
              "      <td>A-</td>\n",
              "      <td>A-</td>\n",
              "      <td>...</td>\n",
              "      <td>C+</td>\n",
              "      <td>A</td>\n",
              "      <td>B+</td>\n",
              "      <td>A-</td>\n",
              "      <td>B</td>\n",
              "      <td>B+</td>\n",
              "      <td>A-</td>\n",
              "      <td>A-</td>\n",
              "      <td>B</td>\n",
              "      <td>B</td>\n",
              "    </tr>\n",
              "    <tr>\n",
              "      <th>3</th>\n",
              "      <td>D</td>\n",
              "      <td>C+</td>\n",
              "      <td>D+</td>\n",
              "      <td>D</td>\n",
              "      <td>D</td>\n",
              "      <td>A-</td>\n",
              "      <td>D+</td>\n",
              "      <td>C-</td>\n",
              "      <td>D</td>\n",
              "      <td>C+</td>\n",
              "      <td>...</td>\n",
              "      <td>D</td>\n",
              "      <td>B-</td>\n",
              "      <td>D</td>\n",
              "      <td>B-</td>\n",
              "      <td>D+</td>\n",
              "      <td>D+</td>\n",
              "      <td>B+</td>\n",
              "      <td>C-</td>\n",
              "      <td>D+</td>\n",
              "      <td>C</td>\n",
              "    </tr>\n",
              "    <tr>\n",
              "      <th>4</th>\n",
              "      <td>A-</td>\n",
              "      <td>A-</td>\n",
              "      <td>A-</td>\n",
              "      <td>B+</td>\n",
              "      <td>A</td>\n",
              "      <td>A</td>\n",
              "      <td>A-</td>\n",
              "      <td>B+</td>\n",
              "      <td>A</td>\n",
              "      <td>A-</td>\n",
              "      <td>...</td>\n",
              "      <td>C-</td>\n",
              "      <td>A-</td>\n",
              "      <td>B-</td>\n",
              "      <td>A-</td>\n",
              "      <td>C+</td>\n",
              "      <td>A-</td>\n",
              "      <td>B-</td>\n",
              "      <td>A-</td>\n",
              "      <td>B-</td>\n",
              "      <td>B+</td>\n",
              "    </tr>\n",
              "    <tr>\n",
              "      <th>...</th>\n",
              "      <td>...</td>\n",
              "      <td>...</td>\n",
              "      <td>...</td>\n",
              "      <td>...</td>\n",
              "      <td>...</td>\n",
              "      <td>...</td>\n",
              "      <td>...</td>\n",
              "      <td>...</td>\n",
              "      <td>...</td>\n",
              "      <td>...</td>\n",
              "      <td>...</td>\n",
              "      <td>...</td>\n",
              "      <td>...</td>\n",
              "      <td>...</td>\n",
              "      <td>...</td>\n",
              "      <td>...</td>\n",
              "      <td>...</td>\n",
              "      <td>...</td>\n",
              "      <td>...</td>\n",
              "      <td>...</td>\n",
              "      <td>...</td>\n",
              "    </tr>\n",
              "    <tr>\n",
              "      <th>566</th>\n",
              "      <td>B</td>\n",
              "      <td>A</td>\n",
              "      <td>A</td>\n",
              "      <td>A-</td>\n",
              "      <td>A+</td>\n",
              "      <td>A</td>\n",
              "      <td>A-</td>\n",
              "      <td>A-</td>\n",
              "      <td>A+</td>\n",
              "      <td>B+</td>\n",
              "      <td>...</td>\n",
              "      <td>B</td>\n",
              "      <td>A-</td>\n",
              "      <td>A-</td>\n",
              "      <td>A</td>\n",
              "      <td>A+</td>\n",
              "      <td>A</td>\n",
              "      <td>A</td>\n",
              "      <td>B+</td>\n",
              "      <td>A-</td>\n",
              "      <td>A-</td>\n",
              "    </tr>\n",
              "    <tr>\n",
              "      <th>567</th>\n",
              "      <td>A+</td>\n",
              "      <td>A</td>\n",
              "      <td>A</td>\n",
              "      <td>A</td>\n",
              "      <td>A</td>\n",
              "      <td>A</td>\n",
              "      <td>A</td>\n",
              "      <td>A-</td>\n",
              "      <td>A</td>\n",
              "      <td>A</td>\n",
              "      <td>...</td>\n",
              "      <td>A</td>\n",
              "      <td>A</td>\n",
              "      <td>A</td>\n",
              "      <td>A</td>\n",
              "      <td>A</td>\n",
              "      <td>A</td>\n",
              "      <td>A+</td>\n",
              "      <td>A-</td>\n",
              "      <td>B+</td>\n",
              "      <td>B+</td>\n",
              "    </tr>\n",
              "    <tr>\n",
              "      <th>568</th>\n",
              "      <td>B</td>\n",
              "      <td>A</td>\n",
              "      <td>A-</td>\n",
              "      <td>B+</td>\n",
              "      <td>A</td>\n",
              "      <td>A</td>\n",
              "      <td>A</td>\n",
              "      <td>A</td>\n",
              "      <td>A</td>\n",
              "      <td>B</td>\n",
              "      <td>...</td>\n",
              "      <td>B</td>\n",
              "      <td>B-</td>\n",
              "      <td>B+</td>\n",
              "      <td>B+</td>\n",
              "      <td>A</td>\n",
              "      <td>B</td>\n",
              "      <td>C+</td>\n",
              "      <td>B+</td>\n",
              "      <td>A-</td>\n",
              "      <td>B</td>\n",
              "    </tr>\n",
              "    <tr>\n",
              "      <th>569</th>\n",
              "      <td>A</td>\n",
              "      <td>B+</td>\n",
              "      <td>D</td>\n",
              "      <td>A</td>\n",
              "      <td>D</td>\n",
              "      <td>D+</td>\n",
              "      <td>B-</td>\n",
              "      <td>C-</td>\n",
              "      <td>B-</td>\n",
              "      <td>C-</td>\n",
              "      <td>...</td>\n",
              "      <td>D</td>\n",
              "      <td>C</td>\n",
              "      <td>C</td>\n",
              "      <td>C+</td>\n",
              "      <td>C-</td>\n",
              "      <td>D</td>\n",
              "      <td>B-</td>\n",
              "      <td>B+</td>\n",
              "      <td>D</td>\n",
              "      <td>B</td>\n",
              "    </tr>\n",
              "    <tr>\n",
              "      <th>570</th>\n",
              "      <td>C</td>\n",
              "      <td>D</td>\n",
              "      <td>D</td>\n",
              "      <td>C</td>\n",
              "      <td>C</td>\n",
              "      <td>D+</td>\n",
              "      <td>B</td>\n",
              "      <td>C+</td>\n",
              "      <td>C</td>\n",
              "      <td>D+</td>\n",
              "      <td>...</td>\n",
              "      <td>D</td>\n",
              "      <td>F</td>\n",
              "      <td>D</td>\n",
              "      <td>D</td>\n",
              "      <td>C</td>\n",
              "      <td>F</td>\n",
              "      <td>C-</td>\n",
              "      <td>D+</td>\n",
              "      <td>C+</td>\n",
              "      <td>C</td>\n",
              "    </tr>\n",
              "  </tbody>\n",
              "</table>\n",
              "<p>571 rows × 33 columns</p>\n",
              "</div>\n",
              "      <button class=\"colab-df-convert\" onclick=\"convertToInteractive('df-3259e04b-6797-4077-9f33-6496ec2e9dc3')\"\n",
              "              title=\"Convert this dataframe to an interactive table.\"\n",
              "              style=\"display:none;\">\n",
              "        \n",
              "  <svg xmlns=\"http://www.w3.org/2000/svg\" height=\"24px\"viewBox=\"0 0 24 24\"\n",
              "       width=\"24px\">\n",
              "    <path d=\"M0 0h24v24H0V0z\" fill=\"none\"/>\n",
              "    <path d=\"M18.56 5.44l.94 2.06.94-2.06 2.06-.94-2.06-.94-.94-2.06-.94 2.06-2.06.94zm-11 1L8.5 8.5l.94-2.06 2.06-.94-2.06-.94L8.5 2.5l-.94 2.06-2.06.94zm10 10l.94 2.06.94-2.06 2.06-.94-2.06-.94-.94-2.06-.94 2.06-2.06.94z\"/><path d=\"M17.41 7.96l-1.37-1.37c-.4-.4-.92-.59-1.43-.59-.52 0-1.04.2-1.43.59L10.3 9.45l-7.72 7.72c-.78.78-.78 2.05 0 2.83L4 21.41c.39.39.9.59 1.41.59.51 0 1.02-.2 1.41-.59l7.78-7.78 2.81-2.81c.8-.78.8-2.07 0-2.86zM5.41 20L4 18.59l7.72-7.72 1.47 1.35L5.41 20z\"/>\n",
              "  </svg>\n",
              "      </button>\n",
              "      \n",
              "  <style>\n",
              "    .colab-df-container {\n",
              "      display:flex;\n",
              "      flex-wrap:wrap;\n",
              "      gap: 12px;\n",
              "    }\n",
              "\n",
              "    .colab-df-convert {\n",
              "      background-color: #E8F0FE;\n",
              "      border: none;\n",
              "      border-radius: 50%;\n",
              "      cursor: pointer;\n",
              "      display: none;\n",
              "      fill: #1967D2;\n",
              "      height: 32px;\n",
              "      padding: 0 0 0 0;\n",
              "      width: 32px;\n",
              "    }\n",
              "\n",
              "    .colab-df-convert:hover {\n",
              "      background-color: #E2EBFA;\n",
              "      box-shadow: 0px 1px 2px rgba(60, 64, 67, 0.3), 0px 1px 3px 1px rgba(60, 64, 67, 0.15);\n",
              "      fill: #174EA6;\n",
              "    }\n",
              "\n",
              "    [theme=dark] .colab-df-convert {\n",
              "      background-color: #3B4455;\n",
              "      fill: #D2E3FC;\n",
              "    }\n",
              "\n",
              "    [theme=dark] .colab-df-convert:hover {\n",
              "      background-color: #434B5C;\n",
              "      box-shadow: 0px 1px 3px 1px rgba(0, 0, 0, 0.15);\n",
              "      filter: drop-shadow(0px 1px 2px rgba(0, 0, 0, 0.3));\n",
              "      fill: #FFFFFF;\n",
              "    }\n",
              "  </style>\n",
              "\n",
              "      <script>\n",
              "        const buttonEl =\n",
              "          document.querySelector('#df-3259e04b-6797-4077-9f33-6496ec2e9dc3 button.colab-df-convert');\n",
              "        buttonEl.style.display =\n",
              "          google.colab.kernel.accessAllowed ? 'block' : 'none';\n",
              "\n",
              "        async function convertToInteractive(key) {\n",
              "          const element = document.querySelector('#df-3259e04b-6797-4077-9f33-6496ec2e9dc3');\n",
              "          const dataTable =\n",
              "            await google.colab.kernel.invokeFunction('convertToInteractive',\n",
              "                                                     [key], {});\n",
              "          if (!dataTable) return;\n",
              "\n",
              "          const docLinkHtml = 'Like what you see? Visit the ' +\n",
              "            '<a target=\"_blank\" href=https://colab.research.google.com/notebooks/data_table.ipynb>data table notebook</a>'\n",
              "            + ' to learn more about interactive tables.';\n",
              "          element.innerHTML = '';\n",
              "          dataTable['output_type'] = 'display_data';\n",
              "          await google.colab.output.renderOutput(dataTable, element);\n",
              "          const docLink = document.createElement('div');\n",
              "          docLink.innerHTML = docLinkHtml;\n",
              "          element.appendChild(docLink);\n",
              "        }\n",
              "      </script>\n",
              "    </div>\n",
              "  </div>\n",
              "  "
            ]
          },
          "metadata": {},
          "execution_count": 157
        }
      ]
    },
    {
      "cell_type": "code",
      "source": [
        "#Filling Empty spaces and NaN in a cell\n",
        "\n",
        "for col in x.columns:\n",
        "    x[f'{col}'].fillna(x[f'{col}'].mode()[0], inplace = True)"
      ],
      "metadata": {
        "id": "sE0mOafql7vD"
      },
      "execution_count": 158,
      "outputs": []
    },
    {
      "cell_type": "code",
      "source": [
        "#From 1 - 15, where 1 represents least weightage and 15 represents highest weightage of a gradepoint\n",
        "\n",
        "X = {'A+': 15, 'A': 14, 'A-': 13, 'B+': 12, 'B': 11, 'B-': 10,\n",
        "    'C+': 9, 'C': 8, 'C-': 7, 'D+': 6, 'D': 5, 'F': 4,\n",
        "     'I' : 3, 'W': 2, 'WU': 1}\n",
        "                \n",
        "x = x.replace(X)    #replace all alphabetic grades with integer values"
      ],
      "metadata": {
        "id": "QU6I8T8kqhsV"
      },
      "execution_count": 159,
      "outputs": []
    },
    {
      "cell_type": "code",
      "source": [
        "x"
      ],
      "metadata": {
        "colab": {
          "base_uri": "https://localhost:8080/",
          "height": 424
        },
        "id": "W4yF_j-IsCAp",
        "outputId": "05315f26-7f46-4ba7-a4c5-ac3ff48e0e6d"
      },
      "execution_count": 160,
      "outputs": [
        {
          "output_type": "execute_result",
          "data": {
            "text/plain": [
              "     PH-121  HS-101  CY-105  HS-105/12  MT-111  CS-105  CS-106  EL-102  \\\n",
              "0        10       6       7          8       7       6       5       7   \n",
              "1        14       5       6          5      10       8       5      14   \n",
              "2        14      11      14         10      12      14      10      12   \n",
              "3         5       9       6          5       5      13       6       7   \n",
              "4        13      13      13         12      14      14      13      12   \n",
              "..      ...     ...     ...        ...     ...     ...     ...     ...   \n",
              "566      11      14      14         13      15      14      13      13   \n",
              "567      15      14      14         14      14      14      14      13   \n",
              "568      11      14      13         12      14      14      14      14   \n",
              "569      14      12       5         14       5       6      10       7   \n",
              "570       8       5       5          8       8       6      11       9   \n",
              "\n",
              "     EE-119  ME-107  ...  EF-303  HS-304  CS-301  CS-302  TC-383  EL-332  \\\n",
              "0        10       7  ...       7       9      11       8       9       8   \n",
              "1         6       5  ...       5       7      13       6       7       8   \n",
              "2        13      13  ...       9      14      12      13      11      12   \n",
              "3         5       9  ...       5      10       5      10       6       6   \n",
              "4        14      13  ...       7      13      10      13       9      13   \n",
              "..      ...     ...  ...     ...     ...     ...     ...     ...     ...   \n",
              "566      15      12  ...      11      13      13      14      15      14   \n",
              "567      14      14  ...      14      14      14      14      14      14   \n",
              "568      14      11  ...      11      10      12      12      14      11   \n",
              "569      10       7  ...       5       8       8       9       7       5   \n",
              "570       8       6  ...       5       4       5       5       8       4   \n",
              "\n",
              "     CS-318  CS-306  CS-312  CS-317  \n",
              "0         7       8       7       7  \n",
              "1        13       5       6       5  \n",
              "2        13      13      11      11  \n",
              "3        12       7       6       8  \n",
              "4        10      13      10      12  \n",
              "..      ...     ...     ...     ...  \n",
              "566      14      12      13      13  \n",
              "567      15      13      12      12  \n",
              "568       9      12      13      11  \n",
              "569      10      12       5      11  \n",
              "570       7       6       9       8  \n",
              "\n",
              "[571 rows x 33 columns]"
            ],
            "text/html": [
              "\n",
              "  <div id=\"df-45c5ec06-db8f-45eb-a6b2-227c9b383b73\">\n",
              "    <div class=\"colab-df-container\">\n",
              "      <div>\n",
              "<style scoped>\n",
              "    .dataframe tbody tr th:only-of-type {\n",
              "        vertical-align: middle;\n",
              "    }\n",
              "\n",
              "    .dataframe tbody tr th {\n",
              "        vertical-align: top;\n",
              "    }\n",
              "\n",
              "    .dataframe thead th {\n",
              "        text-align: right;\n",
              "    }\n",
              "</style>\n",
              "<table border=\"1\" class=\"dataframe\">\n",
              "  <thead>\n",
              "    <tr style=\"text-align: right;\">\n",
              "      <th></th>\n",
              "      <th>PH-121</th>\n",
              "      <th>HS-101</th>\n",
              "      <th>CY-105</th>\n",
              "      <th>HS-105/12</th>\n",
              "      <th>MT-111</th>\n",
              "      <th>CS-105</th>\n",
              "      <th>CS-106</th>\n",
              "      <th>EL-102</th>\n",
              "      <th>EE-119</th>\n",
              "      <th>ME-107</th>\n",
              "      <th>...</th>\n",
              "      <th>EF-303</th>\n",
              "      <th>HS-304</th>\n",
              "      <th>CS-301</th>\n",
              "      <th>CS-302</th>\n",
              "      <th>TC-383</th>\n",
              "      <th>EL-332</th>\n",
              "      <th>CS-318</th>\n",
              "      <th>CS-306</th>\n",
              "      <th>CS-312</th>\n",
              "      <th>CS-317</th>\n",
              "    </tr>\n",
              "  </thead>\n",
              "  <tbody>\n",
              "    <tr>\n",
              "      <th>0</th>\n",
              "      <td>10</td>\n",
              "      <td>6</td>\n",
              "      <td>7</td>\n",
              "      <td>8</td>\n",
              "      <td>7</td>\n",
              "      <td>6</td>\n",
              "      <td>5</td>\n",
              "      <td>7</td>\n",
              "      <td>10</td>\n",
              "      <td>7</td>\n",
              "      <td>...</td>\n",
              "      <td>7</td>\n",
              "      <td>9</td>\n",
              "      <td>11</td>\n",
              "      <td>8</td>\n",
              "      <td>9</td>\n",
              "      <td>8</td>\n",
              "      <td>7</td>\n",
              "      <td>8</td>\n",
              "      <td>7</td>\n",
              "      <td>7</td>\n",
              "    </tr>\n",
              "    <tr>\n",
              "      <th>1</th>\n",
              "      <td>14</td>\n",
              "      <td>5</td>\n",
              "      <td>6</td>\n",
              "      <td>5</td>\n",
              "      <td>10</td>\n",
              "      <td>8</td>\n",
              "      <td>5</td>\n",
              "      <td>14</td>\n",
              "      <td>6</td>\n",
              "      <td>5</td>\n",
              "      <td>...</td>\n",
              "      <td>5</td>\n",
              "      <td>7</td>\n",
              "      <td>13</td>\n",
              "      <td>6</td>\n",
              "      <td>7</td>\n",
              "      <td>8</td>\n",
              "      <td>13</td>\n",
              "      <td>5</td>\n",
              "      <td>6</td>\n",
              "      <td>5</td>\n",
              "    </tr>\n",
              "    <tr>\n",
              "      <th>2</th>\n",
              "      <td>14</td>\n",
              "      <td>11</td>\n",
              "      <td>14</td>\n",
              "      <td>10</td>\n",
              "      <td>12</td>\n",
              "      <td>14</td>\n",
              "      <td>10</td>\n",
              "      <td>12</td>\n",
              "      <td>13</td>\n",
              "      <td>13</td>\n",
              "      <td>...</td>\n",
              "      <td>9</td>\n",
              "      <td>14</td>\n",
              "      <td>12</td>\n",
              "      <td>13</td>\n",
              "      <td>11</td>\n",
              "      <td>12</td>\n",
              "      <td>13</td>\n",
              "      <td>13</td>\n",
              "      <td>11</td>\n",
              "      <td>11</td>\n",
              "    </tr>\n",
              "    <tr>\n",
              "      <th>3</th>\n",
              "      <td>5</td>\n",
              "      <td>9</td>\n",
              "      <td>6</td>\n",
              "      <td>5</td>\n",
              "      <td>5</td>\n",
              "      <td>13</td>\n",
              "      <td>6</td>\n",
              "      <td>7</td>\n",
              "      <td>5</td>\n",
              "      <td>9</td>\n",
              "      <td>...</td>\n",
              "      <td>5</td>\n",
              "      <td>10</td>\n",
              "      <td>5</td>\n",
              "      <td>10</td>\n",
              "      <td>6</td>\n",
              "      <td>6</td>\n",
              "      <td>12</td>\n",
              "      <td>7</td>\n",
              "      <td>6</td>\n",
              "      <td>8</td>\n",
              "    </tr>\n",
              "    <tr>\n",
              "      <th>4</th>\n",
              "      <td>13</td>\n",
              "      <td>13</td>\n",
              "      <td>13</td>\n",
              "      <td>12</td>\n",
              "      <td>14</td>\n",
              "      <td>14</td>\n",
              "      <td>13</td>\n",
              "      <td>12</td>\n",
              "      <td>14</td>\n",
              "      <td>13</td>\n",
              "      <td>...</td>\n",
              "      <td>7</td>\n",
              "      <td>13</td>\n",
              "      <td>10</td>\n",
              "      <td>13</td>\n",
              "      <td>9</td>\n",
              "      <td>13</td>\n",
              "      <td>10</td>\n",
              "      <td>13</td>\n",
              "      <td>10</td>\n",
              "      <td>12</td>\n",
              "    </tr>\n",
              "    <tr>\n",
              "      <th>...</th>\n",
              "      <td>...</td>\n",
              "      <td>...</td>\n",
              "      <td>...</td>\n",
              "      <td>...</td>\n",
              "      <td>...</td>\n",
              "      <td>...</td>\n",
              "      <td>...</td>\n",
              "      <td>...</td>\n",
              "      <td>...</td>\n",
              "      <td>...</td>\n",
              "      <td>...</td>\n",
              "      <td>...</td>\n",
              "      <td>...</td>\n",
              "      <td>...</td>\n",
              "      <td>...</td>\n",
              "      <td>...</td>\n",
              "      <td>...</td>\n",
              "      <td>...</td>\n",
              "      <td>...</td>\n",
              "      <td>...</td>\n",
              "      <td>...</td>\n",
              "    </tr>\n",
              "    <tr>\n",
              "      <th>566</th>\n",
              "      <td>11</td>\n",
              "      <td>14</td>\n",
              "      <td>14</td>\n",
              "      <td>13</td>\n",
              "      <td>15</td>\n",
              "      <td>14</td>\n",
              "      <td>13</td>\n",
              "      <td>13</td>\n",
              "      <td>15</td>\n",
              "      <td>12</td>\n",
              "      <td>...</td>\n",
              "      <td>11</td>\n",
              "      <td>13</td>\n",
              "      <td>13</td>\n",
              "      <td>14</td>\n",
              "      <td>15</td>\n",
              "      <td>14</td>\n",
              "      <td>14</td>\n",
              "      <td>12</td>\n",
              "      <td>13</td>\n",
              "      <td>13</td>\n",
              "    </tr>\n",
              "    <tr>\n",
              "      <th>567</th>\n",
              "      <td>15</td>\n",
              "      <td>14</td>\n",
              "      <td>14</td>\n",
              "      <td>14</td>\n",
              "      <td>14</td>\n",
              "      <td>14</td>\n",
              "      <td>14</td>\n",
              "      <td>13</td>\n",
              "      <td>14</td>\n",
              "      <td>14</td>\n",
              "      <td>...</td>\n",
              "      <td>14</td>\n",
              "      <td>14</td>\n",
              "      <td>14</td>\n",
              "      <td>14</td>\n",
              "      <td>14</td>\n",
              "      <td>14</td>\n",
              "      <td>15</td>\n",
              "      <td>13</td>\n",
              "      <td>12</td>\n",
              "      <td>12</td>\n",
              "    </tr>\n",
              "    <tr>\n",
              "      <th>568</th>\n",
              "      <td>11</td>\n",
              "      <td>14</td>\n",
              "      <td>13</td>\n",
              "      <td>12</td>\n",
              "      <td>14</td>\n",
              "      <td>14</td>\n",
              "      <td>14</td>\n",
              "      <td>14</td>\n",
              "      <td>14</td>\n",
              "      <td>11</td>\n",
              "      <td>...</td>\n",
              "      <td>11</td>\n",
              "      <td>10</td>\n",
              "      <td>12</td>\n",
              "      <td>12</td>\n",
              "      <td>14</td>\n",
              "      <td>11</td>\n",
              "      <td>9</td>\n",
              "      <td>12</td>\n",
              "      <td>13</td>\n",
              "      <td>11</td>\n",
              "    </tr>\n",
              "    <tr>\n",
              "      <th>569</th>\n",
              "      <td>14</td>\n",
              "      <td>12</td>\n",
              "      <td>5</td>\n",
              "      <td>14</td>\n",
              "      <td>5</td>\n",
              "      <td>6</td>\n",
              "      <td>10</td>\n",
              "      <td>7</td>\n",
              "      <td>10</td>\n",
              "      <td>7</td>\n",
              "      <td>...</td>\n",
              "      <td>5</td>\n",
              "      <td>8</td>\n",
              "      <td>8</td>\n",
              "      <td>9</td>\n",
              "      <td>7</td>\n",
              "      <td>5</td>\n",
              "      <td>10</td>\n",
              "      <td>12</td>\n",
              "      <td>5</td>\n",
              "      <td>11</td>\n",
              "    </tr>\n",
              "    <tr>\n",
              "      <th>570</th>\n",
              "      <td>8</td>\n",
              "      <td>5</td>\n",
              "      <td>5</td>\n",
              "      <td>8</td>\n",
              "      <td>8</td>\n",
              "      <td>6</td>\n",
              "      <td>11</td>\n",
              "      <td>9</td>\n",
              "      <td>8</td>\n",
              "      <td>6</td>\n",
              "      <td>...</td>\n",
              "      <td>5</td>\n",
              "      <td>4</td>\n",
              "      <td>5</td>\n",
              "      <td>5</td>\n",
              "      <td>8</td>\n",
              "      <td>4</td>\n",
              "      <td>7</td>\n",
              "      <td>6</td>\n",
              "      <td>9</td>\n",
              "      <td>8</td>\n",
              "    </tr>\n",
              "  </tbody>\n",
              "</table>\n",
              "<p>571 rows × 33 columns</p>\n",
              "</div>\n",
              "      <button class=\"colab-df-convert\" onclick=\"convertToInteractive('df-45c5ec06-db8f-45eb-a6b2-227c9b383b73')\"\n",
              "              title=\"Convert this dataframe to an interactive table.\"\n",
              "              style=\"display:none;\">\n",
              "        \n",
              "  <svg xmlns=\"http://www.w3.org/2000/svg\" height=\"24px\"viewBox=\"0 0 24 24\"\n",
              "       width=\"24px\">\n",
              "    <path d=\"M0 0h24v24H0V0z\" fill=\"none\"/>\n",
              "    <path d=\"M18.56 5.44l.94 2.06.94-2.06 2.06-.94-2.06-.94-.94-2.06-.94 2.06-2.06.94zm-11 1L8.5 8.5l.94-2.06 2.06-.94-2.06-.94L8.5 2.5l-.94 2.06-2.06.94zm10 10l.94 2.06.94-2.06 2.06-.94-2.06-.94-.94-2.06-.94 2.06-2.06.94z\"/><path d=\"M17.41 7.96l-1.37-1.37c-.4-.4-.92-.59-1.43-.59-.52 0-1.04.2-1.43.59L10.3 9.45l-7.72 7.72c-.78.78-.78 2.05 0 2.83L4 21.41c.39.39.9.59 1.41.59.51 0 1.02-.2 1.41-.59l7.78-7.78 2.81-2.81c.8-.78.8-2.07 0-2.86zM5.41 20L4 18.59l7.72-7.72 1.47 1.35L5.41 20z\"/>\n",
              "  </svg>\n",
              "      </button>\n",
              "      \n",
              "  <style>\n",
              "    .colab-df-container {\n",
              "      display:flex;\n",
              "      flex-wrap:wrap;\n",
              "      gap: 12px;\n",
              "    }\n",
              "\n",
              "    .colab-df-convert {\n",
              "      background-color: #E8F0FE;\n",
              "      border: none;\n",
              "      border-radius: 50%;\n",
              "      cursor: pointer;\n",
              "      display: none;\n",
              "      fill: #1967D2;\n",
              "      height: 32px;\n",
              "      padding: 0 0 0 0;\n",
              "      width: 32px;\n",
              "    }\n",
              "\n",
              "    .colab-df-convert:hover {\n",
              "      background-color: #E2EBFA;\n",
              "      box-shadow: 0px 1px 2px rgba(60, 64, 67, 0.3), 0px 1px 3px 1px rgba(60, 64, 67, 0.15);\n",
              "      fill: #174EA6;\n",
              "    }\n",
              "\n",
              "    [theme=dark] .colab-df-convert {\n",
              "      background-color: #3B4455;\n",
              "      fill: #D2E3FC;\n",
              "    }\n",
              "\n",
              "    [theme=dark] .colab-df-convert:hover {\n",
              "      background-color: #434B5C;\n",
              "      box-shadow: 0px 1px 3px 1px rgba(0, 0, 0, 0.15);\n",
              "      filter: drop-shadow(0px 1px 2px rgba(0, 0, 0, 0.3));\n",
              "      fill: #FFFFFF;\n",
              "    }\n",
              "  </style>\n",
              "\n",
              "      <script>\n",
              "        const buttonEl =\n",
              "          document.querySelector('#df-45c5ec06-db8f-45eb-a6b2-227c9b383b73 button.colab-df-convert');\n",
              "        buttonEl.style.display =\n",
              "          google.colab.kernel.accessAllowed ? 'block' : 'none';\n",
              "\n",
              "        async function convertToInteractive(key) {\n",
              "          const element = document.querySelector('#df-45c5ec06-db8f-45eb-a6b2-227c9b383b73');\n",
              "          const dataTable =\n",
              "            await google.colab.kernel.invokeFunction('convertToInteractive',\n",
              "                                                     [key], {});\n",
              "          if (!dataTable) return;\n",
              "\n",
              "          const docLinkHtml = 'Like what you see? Visit the ' +\n",
              "            '<a target=\"_blank\" href=https://colab.research.google.com/notebooks/data_table.ipynb>data table notebook</a>'\n",
              "            + ' to learn more about interactive tables.';\n",
              "          element.innerHTML = '';\n",
              "          dataTable['output_type'] = 'display_data';\n",
              "          await google.colab.output.renderOutput(dataTable, element);\n",
              "          const docLink = document.createElement('div');\n",
              "          docLink.innerHTML = docLinkHtml;\n",
              "          element.appendChild(docLink);\n",
              "        }\n",
              "      </script>\n",
              "    </div>\n",
              "  </div>\n",
              "  "
            ]
          },
          "metadata": {},
          "execution_count": 160
        }
      ]
    },
    {
      "cell_type": "code",
      "source": [
        "x_train, x_test, y_train, y_test = train_test_split(x, y, test_size=0.2)  #splitting a data into testing(20%) and training(80%)"
      ],
      "metadata": {
        "id": "fk-ql-mc1G7K"
      },
      "execution_count": 161,
      "outputs": []
    },
    {
      "cell_type": "code",
      "source": [
        "model1 = LinearRegression()    \n",
        "model1.fit(x_train,y_train)     #Fitting a Model "
      ],
      "metadata": {
        "id": "IOfqsGsq5AbQ",
        "colab": {
          "base_uri": "https://localhost:8080/"
        },
        "outputId": "284fbaca-5f58-47de-cfdf-f1af0291e8a3"
      },
      "execution_count": 162,
      "outputs": [
        {
          "output_type": "execute_result",
          "data": {
            "text/plain": [
              "LinearRegression()"
            ]
          },
          "metadata": {},
          "execution_count": 162
        }
      ]
    },
    {
      "cell_type": "code",
      "source": [
        "model1_score = model1.score(x_train, y_train)    #Calculating a Training score by providing trained data\n",
        "print('Training Score:' , round(model1_score*100, 3) , '%') "
      ],
      "metadata": {
        "id": "_kVvP57a5TeR",
        "colab": {
          "base_uri": "https://localhost:8080/"
        },
        "outputId": "071e4022-fcfe-41fc-fd80-5e18377cc4ef"
      },
      "execution_count": 163,
      "outputs": [
        {
          "output_type": "stream",
          "name": "stdout",
          "text": [
            "Training Score: 93.059 %\n"
          ]
        }
      ]
    },
    {
      "cell_type": "code",
      "source": [
        "y_lin_pred1 = model1.predict(x_test)    #checking the prediction of a model by providing test data\n"
      ],
      "metadata": {
        "id": "F7Y_HtYY5Wo4"
      },
      "execution_count": 164,
      "outputs": []
    },
    {
      "cell_type": "code",
      "source": [
        "model1_score = model1.score(x_test, y_test)           #Calculating a Testing score by providing test data\n",
        "print('Testing Score:' , round(model1_score*100, 3) , '%')"
      ],
      "metadata": {
        "id": "zT5fkn9x5h8Y",
        "colab": {
          "base_uri": "https://localhost:8080/"
        },
        "outputId": "2a8ba5f8-e1da-4c39-c247-6e5ad217df51"
      },
      "execution_count": 165,
      "outputs": [
        {
          "output_type": "stream",
          "name": "stdout",
          "text": [
            "Testing Score: 95.217 %\n"
          ]
        }
      ]
    },
    {
      "cell_type": "code",
      "source": [
        "lst = []                #empty list initiated\n",
        "x_col = x.columns       #fetching column first element like a name of specific course\n",
        "\n",
        "for i in x_col:\n",
        "  enter = int(input(f'Enter grade of: \\n{i}: '))\n",
        "  lst.append(enter)     #list is appended with provided grade\n",
        "lst2 = [lst]            #list is converted to 2D"
      ],
      "metadata": {
        "colab": {
          "base_uri": "https://localhost:8080/"
        },
        "id": "w5iPNCA7r0uE",
        "outputId": "2f6a1a95-0c25-4d99-b93c-72a78f67ad62"
      },
      "execution_count": 166,
      "outputs": [
        {
          "name": "stdout",
          "output_type": "stream",
          "text": [
            "Enter grade of: \n",
            "PH-121: 6\n",
            "Enter grade of: \n",
            "HS-101: 6\n",
            "Enter grade of: \n",
            "CY-105: 6\n",
            "Enter grade of: \n",
            "HS-105/12: 6\n",
            "Enter grade of: \n",
            "MT-111: 6\n",
            "Enter grade of: \n",
            "CS-105: 6\n",
            "Enter grade of: \n",
            "CS-106: 6\n",
            "Enter grade of: \n",
            "EL-102: 5\n",
            "Enter grade of: \n",
            "EE-119: 4\n",
            "Enter grade of: \n",
            "ME-107: 6\n",
            "Enter grade of: \n",
            "CS-107: 7\n",
            "Enter grade of: \n",
            "HS-205/20: 6\n",
            "Enter grade of: \n",
            "MT-222: 5\n",
            "Enter grade of: \n",
            "EE-222: 6\n",
            "Enter grade of: \n",
            "MT-224: 5\n",
            "Enter grade of: \n",
            "CS-210: 6\n",
            "Enter grade of: \n",
            "CS-211: 5\n",
            "Enter grade of: \n",
            "CS-203: 6\n",
            "Enter grade of: \n",
            "CS-214: 5\n",
            "Enter grade of: \n",
            "EE-217: 6\n",
            "Enter grade of: \n",
            "CS-212: 5\n",
            "Enter grade of: \n",
            "CS-215: 6\n",
            "Enter grade of: \n",
            "MT-331: 5\n",
            "Enter grade of: \n",
            "EF-303: 6\n",
            "Enter grade of: \n",
            "HS-304: 5\n",
            "Enter grade of: \n",
            "CS-301: 7\n",
            "Enter grade of: \n",
            "CS-302: 8\n",
            "Enter grade of: \n",
            "TC-383: 7\n",
            "Enter grade of: \n",
            "EL-332: 8\n",
            "Enter grade of: \n",
            "CS-318: 9\n",
            "Enter grade of: \n",
            "CS-306: 8\n",
            "Enter grade of: \n",
            "CS-312: 7\n",
            "Enter grade of: \n",
            "CS-317: 8\n"
          ]
        }
      ]
    },
    {
      "cell_type": "code",
      "source": [
        "lst1=model1.predict(lst2)         #Predict Gpa by providing individual course grade\n",
        "lim_gpa=np.clip(lst1[0][0], a_min = 0, a_max = 4)     #if CGPA is in -ve then it will clamp to 0.0 if it greater than 4 will clamp to 4\n",
        "print('CGPA: ' , round(lim_gpa, 3))\n",
        "\n"
      ],
      "metadata": {
        "id": "LBOfsyyS5k1A",
        "colab": {
          "base_uri": "https://localhost:8080/"
        },
        "outputId": "ae65deab-076d-4aff-c919-d2a061cd0c7a"
      },
      "execution_count": 167,
      "outputs": [
        {
          "output_type": "stream",
          "name": "stdout",
          "text": [
            "CGPA:  1.476\n"
          ]
        },
        {
          "output_type": "stream",
          "name": "stderr",
          "text": [
            "/usr/local/lib/python3.7/dist-packages/sklearn/base.py:451: UserWarning: X does not have valid feature names, but LinearRegression was fitted with feature names\n",
            "  \"X does not have valid feature names, but\"\n"
          ]
        }
      ]
    },
    {
      "cell_type": "markdown",
      "source": [
        "# `Evaluating Linear Regression for Model 3`"
      ],
      "metadata": {
        "id": "kKRzl7favUcj"
      }
    },
    {
      "cell_type": "markdown",
      "source": [
        "# i) Mean Squared Error"
      ],
      "metadata": {
        "id": "1TBpjkk-vgPt"
      }
    },
    {
      "cell_type": "code",
      "source": [
        "# mean_squared_error\n",
        "mse_lr_model3 = mean_squared_error(y_test, y_lin_pred1)\n",
        "print(\"i - Mean Squared Error:\", round(mse_lr_model3, 3))"
      ],
      "metadata": {
        "colab": {
          "base_uri": "https://localhost:8080/"
        },
        "id": "8K0208VJvsNe",
        "outputId": "dfe3c26d-635c-4555-dd55-0660d6069998"
      },
      "execution_count": 168,
      "outputs": [
        {
          "output_type": "stream",
          "name": "stdout",
          "text": [
            "i - Mean Squared Error: 0.018\n"
          ]
        }
      ]
    },
    {
      "cell_type": "markdown",
      "source": [
        "# ii) Root Mean Squared Error"
      ],
      "metadata": {
        "id": "vf9jzqvewh8J"
      }
    },
    {
      "cell_type": "code",
      "source": [
        "#root mean_squared_error\n",
        "rmse_lr_model3 = mean_squared_error(y_test, y_lin_pred1, squared=False)\n",
        "print(\"ii - Root Mean Squared Error:\", round(rmse_lr_model3, 3))\n"
      ],
      "metadata": {
        "colab": {
          "base_uri": "https://localhost:8080/"
        },
        "id": "aA5Z0BG3wufp",
        "outputId": "3470775e-fb15-4acf-c27b-0222b9c88553"
      },
      "execution_count": 169,
      "outputs": [
        {
          "output_type": "stream",
          "name": "stdout",
          "text": [
            "ii - Root Mean Squared Error: 0.136\n"
          ]
        }
      ]
    },
    {
      "cell_type": "markdown",
      "source": [
        "# iii) Mean Absolute Error"
      ],
      "metadata": {
        "id": "B4w4SRMCw-kP"
      }
    },
    {
      "cell_type": "code",
      "source": [
        "#mean_absolute_error\n",
        "mae_lr_model3 = mean_absolute_error(y_test, y_lin_pred1)\n",
        "print(\"iii - Mean Absolute Error:\", round(mae_lr_model3, 3))"
      ],
      "metadata": {
        "colab": {
          "base_uri": "https://localhost:8080/"
        },
        "id": "fJDTxmcHxImj",
        "outputId": "0e024946-2dd3-4dba-ef5b-995a48cae6d5"
      },
      "execution_count": 170,
      "outputs": [
        {
          "output_type": "stream",
          "name": "stdout",
          "text": [
            "iii - Mean Absolute Error: 0.104\n"
          ]
        }
      ]
    },
    {
      "cell_type": "code",
      "source": [
        "print(\"i - Mean Squared Error:\", round(mse_lr_model3, 3))\n",
        "print(\"ii - Root Mean Squared Error:\", round(rmse_lr_model3, 3))\n",
        "print(\"iii - Mean Absolute Error:\", round(mae_lr_model3, 3))\n"
      ],
      "metadata": {
        "colab": {
          "base_uri": "https://localhost:8080/"
        },
        "id": "9G8sWtkKxg0h",
        "outputId": "670bfba0-9860-4c2c-89fe-51d2860c3a61"
      },
      "execution_count": 171,
      "outputs": [
        {
          "output_type": "stream",
          "name": "stdout",
          "text": [
            "i - Mean Squared Error: 0.018\n",
            "ii - Root Mean Squared Error: 0.136\n",
            "iii - Mean Absolute Error: 0.104\n"
          ]
        }
      ]
    },
    {
      "cell_type": "markdown",
      "source": [
        "# **`Model 3`** \n",
        "Predicting CGPA of 4th Year \n",
        "# `SVM Support Vector Machine`"
      ],
      "metadata": {
        "id": "Aw2jzrl8NRsD"
      }
    },
    {
      "cell_type": "code",
      "source": [
        "x_train, x_test, y_train, y_test = train_test_split(x, y, test_size=0.2)          #splitting a data into testing(20%) and training(80%)\n"
      ],
      "metadata": {
        "id": "R6ilq8JlNoUL"
      },
      "execution_count": 172,
      "outputs": []
    },
    {
      "cell_type": "code",
      "source": [
        "regressor_1 = SVR(kernel='linear')       #applying svr and kernel is set to linear\n",
        "regressor_1.fit(x_train,y_train)         #Fitting a Model "
      ],
      "metadata": {
        "colab": {
          "base_uri": "https://localhost:8080/"
        },
        "id": "xKR9W9xVoo7L",
        "outputId": "1ddf099b-8fa7-4f86-c01b-f95556dd6dfd"
      },
      "execution_count": 173,
      "outputs": [
        {
          "output_type": "stream",
          "name": "stderr",
          "text": [
            "/usr/local/lib/python3.7/dist-packages/sklearn/utils/validation.py:993: DataConversionWarning: A column-vector y was passed when a 1d array was expected. Please change the shape of y to (n_samples, ), for example using ravel().\n",
            "  y = column_or_1d(y, warn=True)\n"
          ]
        },
        {
          "output_type": "execute_result",
          "data": {
            "text/plain": [
              "SVR(kernel='linear')"
            ]
          },
          "metadata": {},
          "execution_count": 173
        }
      ]
    },
    {
      "cell_type": "code",
      "source": [
        "regressor_1_score = regressor_1.score(x_train, y_train)       #Calculating Training Score\n",
        "print('Training Score:' , round(regressor_1_score*100, 3) , '%')"
      ],
      "metadata": {
        "colab": {
          "base_uri": "https://localhost:8080/"
        },
        "id": "XpWcXBg5o8-e",
        "outputId": "95990fec-04a5-48f9-e1d1-de3e82c8c8c0"
      },
      "execution_count": 174,
      "outputs": [
        {
          "output_type": "stream",
          "name": "stdout",
          "text": [
            "Training Score: 95.358 %\n"
          ]
        }
      ]
    },
    {
      "cell_type": "code",
      "source": [
        "y_predict_svm = regressor_1.predict(x_test)     #predicting model"
      ],
      "metadata": {
        "id": "-uVdgF6rpRq8"
      },
      "execution_count": 175,
      "outputs": []
    },
    {
      "cell_type": "code",
      "source": [
        "regressor_1_score = regressor_1.score(x_test, y_test)\n",
        "print('Testing Score:' , round(regressor_1_score*100, 3) , '%')\n",
        "\n"
      ],
      "metadata": {
        "colab": {
          "base_uri": "https://localhost:8080/"
        },
        "id": "XbSPSd52pgX8",
        "outputId": "8d7aa0bd-3430-426f-a4e9-55da7fe2acc8"
      },
      "execution_count": 176,
      "outputs": [
        {
          "output_type": "stream",
          "name": "stdout",
          "text": [
            "Testing Score: 83.798 %\n"
          ]
        }
      ]
    },
    {
      "cell_type": "markdown",
      "source": [
        "# `Predicting CGPA by providing GPs of all courses from 1st to 3rd year`"
      ],
      "metadata": {
        "id": "s50n9o7osLqR"
      }
    },
    {
      "cell_type": "code",
      "source": [
        "lst_svm = []\n",
        "x_col = x.columns\n",
        "\n",
        "for i in x_col:\n",
        "  enter = int(input(f'Enter grade of: \\n{i}: '))\n",
        "  lst_svm.append(enter)\n",
        "lst_svm =[lst_svm]\n",
        "\n",
        "\n",
        "y_svm_predict1 = regressor_1.predict(lst_svm)\n",
        "lim_gpa1=np.clip(y_svm_predict1[0], a_min = 0, a_max = 4)\n",
        "print('CGPA: ' , round(lim_gpa1, 3))"
      ],
      "metadata": {
        "id": "L9Lqe8Eqpp40",
        "colab": {
          "base_uri": "https://localhost:8080/"
        },
        "outputId": "e7b91ed1-2bf6-4818-93f3-e4aaa573fc88"
      },
      "execution_count": 177,
      "outputs": [
        {
          "output_type": "stream",
          "name": "stdout",
          "text": [
            "Enter grade of: \n",
            "PH-121: 9\n",
            "Enter grade of: \n",
            "HS-101: 8\n",
            "Enter grade of: \n",
            "CY-105: 9\n",
            "Enter grade of: \n",
            "HS-105/12: 12\n",
            "Enter grade of: \n",
            "MT-111: 15\n",
            "Enter grade of: \n",
            "CS-105: 5\n",
            "Enter grade of: \n",
            "CS-106: 6\n",
            "Enter grade of: \n",
            "EL-102: 7\n",
            "Enter grade of: \n",
            "EE-119: 8\n",
            "Enter grade of: \n",
            "ME-107: 5\n",
            "Enter grade of: \n",
            "CS-107: 8\n",
            "Enter grade of: \n",
            "HS-205/20: 9\n",
            "Enter grade of: \n",
            "MT-222: 8\n",
            "Enter grade of: \n",
            "EE-222: 0\n",
            "Enter grade of: \n",
            "MT-224: 8\n",
            "Enter grade of: \n",
            "CS-210: 7\n",
            "Enter grade of: \n",
            "CS-211: 6\n",
            "Enter grade of: \n",
            "CS-203: 7\n",
            "Enter grade of: \n",
            "CS-214: 8\n",
            "Enter grade of: \n",
            "EE-217: 6\n",
            "Enter grade of: \n",
            "CS-212: 5\n",
            "Enter grade of: \n",
            "CS-215: 7\n",
            "Enter grade of: \n",
            "MT-331: 8\n",
            "Enter grade of: \n",
            "EF-303: 7\n",
            "Enter grade of: \n",
            "HS-304: 6\n",
            "Enter grade of: \n",
            "CS-301: 9\n",
            "Enter grade of: \n",
            "CS-302: 7\n",
            "Enter grade of: \n",
            "TC-383: 6\n",
            "Enter grade of: \n",
            "EL-332: 5\n",
            "Enter grade of: \n",
            "CS-318: 7\n",
            "Enter grade of: \n",
            "CS-306: 8\n",
            "Enter grade of: \n",
            "CS-312: 7\n",
            "Enter grade of: \n",
            "CS-317: 6\n",
            "CGPA:  1.834\n"
          ]
        },
        {
          "output_type": "stream",
          "name": "stderr",
          "text": [
            "/usr/local/lib/python3.7/dist-packages/sklearn/base.py:451: UserWarning: X does not have valid feature names, but SVR was fitted with feature names\n",
            "  \"X does not have valid feature names, but\"\n"
          ]
        }
      ]
    },
    {
      "cell_type": "markdown",
      "source": [
        "# `Evaluating SVR for Model 3`"
      ],
      "metadata": {
        "id": "kYJE6WsbiqaV"
      }
    },
    {
      "cell_type": "markdown",
      "source": [
        "# i) Mean Squared Error"
      ],
      "metadata": {
        "id": "YrVgujv1i-Z9"
      }
    },
    {
      "cell_type": "code",
      "source": [
        "# mean_squared_error\n",
        "mse_svr_model3 = mean_squared_error(y_test, y_predict_svm)\n",
        "print(\"i - Mean Squared Error:\", round(mse_svr_model3, 3))"
      ],
      "metadata": {
        "colab": {
          "base_uri": "https://localhost:8080/"
        },
        "id": "6o3cL64IjIFM",
        "outputId": "dad732c1-1f02-4ddc-fd15-0e6ee89694bb"
      },
      "execution_count": 178,
      "outputs": [
        {
          "output_type": "stream",
          "name": "stdout",
          "text": [
            "i - Mean Squared Error: 0.076\n"
          ]
        }
      ]
    },
    {
      "cell_type": "markdown",
      "source": [
        "#ii) Root Mean Squared Error"
      ],
      "metadata": {
        "id": "S6KS8826oDQC"
      }
    },
    {
      "cell_type": "code",
      "source": [
        "#root mean_squared_error\n",
        "rmse_svr_model3 = mean_squared_error(y_test, y_predict_svm, squared=False)\n",
        "print(\"ii - Root Mean Squared Error:\", round(rmse_svr_model3, 3))\n"
      ],
      "metadata": {
        "colab": {
          "base_uri": "https://localhost:8080/"
        },
        "id": "9gZ7dlJ9oRp0",
        "outputId": "e7f2faae-d91c-4b95-a90e-1e4f28cbbfe7"
      },
      "execution_count": 179,
      "outputs": [
        {
          "output_type": "stream",
          "name": "stdout",
          "text": [
            "ii - Root Mean Squared Error: 0.275\n"
          ]
        }
      ]
    },
    {
      "cell_type": "markdown",
      "source": [
        "# iii) Mean Absolute Error "
      ],
      "metadata": {
        "id": "bXo2APVoorcD"
      }
    },
    {
      "cell_type": "code",
      "source": [
        "#mean_absolute_error\n",
        "mae_svr_model3 = mean_absolute_error(y_test, y_predict_svm)\n",
        "print(\"iii - Mean Absolute Error:\", round(mae_svr_model3, 3))"
      ],
      "metadata": {
        "colab": {
          "base_uri": "https://localhost:8080/"
        },
        "id": "zDA21QQgo1gb",
        "outputId": "3db03720-6a82-423a-f6d4-dcd28bb9ecc3"
      },
      "execution_count": 180,
      "outputs": [
        {
          "output_type": "stream",
          "name": "stdout",
          "text": [
            "iii - Mean Absolute Error: 0.095\n"
          ]
        }
      ]
    },
    {
      "cell_type": "code",
      "source": [
        "print(\"i - Mean Squared Error:\", round(mse_svr_model3, 3))\n",
        "print(\"ii - Root Mean Squared Error:\", round(rmse_svr_model3, 3))\n",
        "print(\"iii - Mean Absolute Error:\", round(mae_svr_model3, 3))\n"
      ],
      "metadata": {
        "colab": {
          "base_uri": "https://localhost:8080/"
        },
        "id": "MGwYgx1BpEUh",
        "outputId": "8d2655b5-8fc0-40cc-ec70-32edbc0ea11a"
      },
      "execution_count": 181,
      "outputs": [
        {
          "output_type": "stream",
          "name": "stdout",
          "text": [
            "i - Mean Squared Error: 0.076\n",
            "ii - Root Mean Squared Error: 0.275\n",
            "iii - Mean Absolute Error: 0.095\n"
          ]
        }
      ]
    },
    {
      "cell_type": "markdown",
      "source": [
        "# `Model 2 `\n",
        "\n",
        "---\n",
        "\n",
        "\n",
        "Predict Final CGPA based on GPs of first two years.\n",
        "# `Implementation of Random Forest Regressor`"
      ],
      "metadata": {
        "id": "fBxpVLuJuzQ8"
      }
    },
    {
      "cell_type": "markdown",
      "source": [
        "# `Data Preprocessing of Model 2 `\n",
        "\n",
        "\n"
      ],
      "metadata": {
        "id": "N1QpVcXpwWya"
      }
    },
    {
      "cell_type": "code",
      "source": [
        "#Columns of Dataset containing only the First and Second year Courses\n",
        "\n",
        "#Assigning x as an input and y as an Output\n",
        "x_model2= dataset.iloc[:,1:-20]\n",
        "y=dataset[['CGPA']]"
      ],
      "metadata": {
        "id": "-T8qi1mpwnYJ"
      },
      "execution_count": 182,
      "outputs": []
    },
    {
      "cell_type": "code",
      "source": [
        "# Filling Empty Cells\n",
        "for col in x_model2.columns:\n",
        "    x_model2[f'{col}'].fillna(x[f'{col}'].mode()[0], inplace = True)"
      ],
      "metadata": {
        "id": "cSNiwsY4xNT2"
      },
      "execution_count": 183,
      "outputs": []
    },
    {
      "cell_type": "code",
      "source": [
        "\n",
        "# Ordinal encoding\n",
        "X = {'A+': 15, 'A': 14, 'A-': 13, 'B+': 12, 'B': 11, 'B-': 10,\n",
        "    'C+': 9, 'C': 8, 'C-': 7, 'D+': 6, 'D': 5, 'F': 4,\n",
        "     'I' : 3, 'W': 2, 'WU': 1}        \n",
        "x_model2 = x_model2.replace(X)"
      ],
      "metadata": {
        "id": "jwTE-mpmxi_l"
      },
      "execution_count": 184,
      "outputs": []
    },
    {
      "cell_type": "code",
      "source": [
        "x_train,x_test,y_train,y_test=train_test_split(x_model2,y,test_size=0.2)"
      ],
      "metadata": {
        "id": "IYoaV7rDyRY7"
      },
      "execution_count": 185,
      "outputs": []
    },
    {
      "cell_type": "code",
      "source": [
        "# Fitting Random Forest Regression to the dataset\n",
        "# create regressor object\n",
        "regressor_rf = RandomForestRegressor(n_estimators = 100, random_state = 0)\n",
        "# fit the regressor with x and y data\n",
        "regressor_rf.fit(x_model2, y) "
      ],
      "metadata": {
        "colab": {
          "base_uri": "https://localhost:8080/"
        },
        "id": "ocowzieiyzaZ",
        "outputId": "891851c9-8e8e-4639-905b-32e433676d9d"
      },
      "execution_count": 186,
      "outputs": [
        {
          "output_type": "stream",
          "name": "stderr",
          "text": [
            "/usr/local/lib/python3.7/dist-packages/ipykernel_launcher.py:5: DataConversionWarning: A column-vector y was passed when a 1d array was expected. Please change the shape of y to (n_samples,), for example using ravel().\n",
            "  \"\"\"\n"
          ]
        },
        {
          "output_type": "execute_result",
          "data": {
            "text/plain": [
              "RandomForestRegressor(random_state=0)"
            ]
          },
          "metadata": {},
          "execution_count": 186
        }
      ]
    },
    {
      "cell_type": "code",
      "source": [
        "regressor_rf_score = regressor_rf.score(x_train, y_train)\n",
        "print('Training Score:' , round(regressor_rf_score*100, 3) , '%')"
      ],
      "metadata": {
        "colab": {
          "base_uri": "https://localhost:8080/"
        },
        "id": "-70y0SzLzksU",
        "outputId": "afba2d01-c6dc-4b66-d68b-b4ee95fe24bf"
      },
      "execution_count": 187,
      "outputs": [
        {
          "output_type": "stream",
          "name": "stdout",
          "text": [
            "Training Score: 98.597 %\n"
          ]
        }
      ]
    },
    {
      "cell_type": "code",
      "source": [
        "y_predict_rf = regressor_rf.predict(x_test)"
      ],
      "metadata": {
        "id": "bOdhTPwh0Q5i"
      },
      "execution_count": 188,
      "outputs": []
    },
    {
      "cell_type": "code",
      "source": [
        "regressor_rf_score = regressor_rf.score(x_test, y_test)\n",
        "print('Testing Score:' , round(regressor_rf_score*100, 3) , '%')\n"
      ],
      "metadata": {
        "colab": {
          "base_uri": "https://localhost:8080/"
        },
        "id": "00W-8Qru0rAc",
        "outputId": "c371ad56-7740-4857-d457-47780b7edb69"
      },
      "execution_count": 189,
      "outputs": [
        {
          "output_type": "stream",
          "name": "stdout",
          "text": [
            "Testing Score: 98.89 %\n"
          ]
        }
      ]
    },
    {
      "cell_type": "markdown",
      "source": [
        "# `Predicting CGPA by providing GPs of 1st and 2nd year Courses`"
      ],
      "metadata": {
        "id": "ElVfGR8Q1OV2"
      }
    },
    {
      "cell_type": "code",
      "source": [
        "lst_rf = []\n",
        "x_col = x_model2.columns\n",
        "\n",
        "for i in x_col:\n",
        "  enter = int(input(f'Enter grade of: \\n{i}: '))\n",
        "  lst_rf.append(enter)\n",
        "lst_rf =[lst_rf]\n",
        "\n",
        "\n",
        "y_rf_predict1 = regressor_rf.predict(lst_rf)\n",
        "print('CGPA: ' , round(y_rf_predict1[0], 3))"
      ],
      "metadata": {
        "colab": {
          "base_uri": "https://localhost:8080/"
        },
        "id": "O-RvLIaH1jZ-",
        "outputId": "6ba8208c-005d-4c37-9c35-63032a283644"
      },
      "execution_count": 190,
      "outputs": [
        {
          "output_type": "stream",
          "name": "stdout",
          "text": [
            "Enter grade of: \n",
            "PH-121: 8\n",
            "Enter grade of: \n",
            "HS-101: 9\n",
            "Enter grade of: \n",
            "CY-105: 8\n",
            "Enter grade of: \n",
            "HS-105/12: 7\n",
            "Enter grade of: \n",
            "MT-111: 8\n",
            "Enter grade of: \n",
            "CS-105: 9\n",
            "Enter grade of: \n",
            "CS-106: 8\n",
            "Enter grade of: \n",
            "EL-102: 7\n",
            "Enter grade of: \n",
            "EE-119: 8\n",
            "Enter grade of: \n",
            "ME-107: 9\n",
            "Enter grade of: \n",
            "CS-107: 8\n",
            "Enter grade of: \n",
            "HS-205/20: 7\n",
            "Enter grade of: \n",
            "MT-222: 8\n",
            "Enter grade of: \n",
            "EE-222: 9\n",
            "Enter grade of: \n",
            "MT-224: 8\n",
            "Enter grade of: \n",
            "CS-210: 9\n",
            "Enter grade of: \n",
            "CS-211: 8\n",
            "Enter grade of: \n",
            "CS-203: 9\n",
            "Enter grade of: \n",
            "CS-214: 9\n",
            "Enter grade of: \n",
            "EE-217: 9\n",
            "Enter grade of: \n",
            "CS-212: 12\n",
            "Enter grade of: \n",
            "CS-215: 6\n",
            "CGPA:  2.234\n"
          ]
        },
        {
          "output_type": "stream",
          "name": "stderr",
          "text": [
            "/usr/local/lib/python3.7/dist-packages/sklearn/base.py:451: UserWarning: X does not have valid feature names, but RandomForestRegressor was fitted with feature names\n",
            "  \"X does not have valid feature names, but\"\n"
          ]
        }
      ]
    },
    {
      "cell_type": "markdown",
      "source": [
        "# `Evaluating Random Forest for Model 2`\n"
      ],
      "metadata": {
        "id": "mKuGmo2gemcq"
      }
    },
    {
      "cell_type": "markdown",
      "source": [
        "# i) Mean Squared Error"
      ],
      "metadata": {
        "id": "NzZMfVfzfICZ"
      }
    },
    {
      "cell_type": "code",
      "source": [
        "# mean_squared_error\n",
        "mse_rf_model2 = mean_squared_error(y_test, y_predict_rf)\n",
        "print(\"i - Mean Squared Error:\", round(mse_rf_model2, 3))\n"
      ],
      "metadata": {
        "colab": {
          "base_uri": "https://localhost:8080/"
        },
        "id": "UGlWofTffPG5",
        "outputId": "e6ba174e-8c2e-49e6-a967-2699db6c1950"
      },
      "execution_count": 191,
      "outputs": [
        {
          "output_type": "stream",
          "name": "stdout",
          "text": [
            "i - Mean Squared Error: 0.004\n"
          ]
        }
      ]
    },
    {
      "cell_type": "markdown",
      "source": [
        "# Root Mean Squared Error"
      ],
      "metadata": {
        "id": "edTi-eKzfkJh"
      }
    },
    {
      "cell_type": "code",
      "source": [
        "#root mean_squared_error\n",
        "rmse_rf_model2 = mean_squared_error(y_test, y_predict_rf, squared=False)\n",
        "print(\"ii - Root Mean Squared Error:\", round(rmse_rf_model2, 3))\n"
      ],
      "metadata": {
        "colab": {
          "base_uri": "https://localhost:8080/"
        },
        "id": "6m_YioSQf7bI",
        "outputId": "6a4137aa-ce14-40cc-9d77-e410dccc0292"
      },
      "execution_count": 192,
      "outputs": [
        {
          "output_type": "stream",
          "name": "stdout",
          "text": [
            "ii - Root Mean Squared Error: 0.064\n"
          ]
        }
      ]
    },
    {
      "cell_type": "markdown",
      "source": [
        "# iii) Mean Absolute Error "
      ],
      "metadata": {
        "id": "f7RjpfAygMRF"
      }
    },
    {
      "cell_type": "code",
      "source": [
        "#mean_absolute_error\n",
        "mae_rf_model2 = mean_absolute_error(y_test, y_predict_rf)\n",
        "print(\"iii - Mean Absolute Error:\", round(mae_rf_model2, 3))"
      ],
      "metadata": {
        "colab": {
          "base_uri": "https://localhost:8080/"
        },
        "id": "HHfvPDKugZMi",
        "outputId": "046f1d91-65a8-40a6-860f-5cd8a300b423"
      },
      "execution_count": 193,
      "outputs": [
        {
          "output_type": "stream",
          "name": "stdout",
          "text": [
            "iii - Mean Absolute Error: 0.047\n"
          ]
        }
      ]
    },
    {
      "cell_type": "code",
      "source": [
        "print(\"i - Mean Squared Error:\", round(mse_rf_model2, 3))\n",
        "print(\"ii - Root Mean Squared Error:\", round(rmse_rf_model2, 3))\n",
        "print(\"iii - Mean Absolute Error:\", round(mae_rf_model2, 3))\n"
      ],
      "metadata": {
        "colab": {
          "base_uri": "https://localhost:8080/"
        },
        "id": "yTWfA0SwhBET",
        "outputId": "53184957-983a-4a28-8229-d2b76191c9cb"
      },
      "execution_count": 194,
      "outputs": [
        {
          "output_type": "stream",
          "name": "stdout",
          "text": [
            "i - Mean Squared Error: 0.004\n",
            "ii - Root Mean Squared Error: 0.064\n",
            "iii - Mean Absolute Error: 0.047\n"
          ]
        }
      ]
    },
    {
      "cell_type": "markdown",
      "source": [
        "# `Model 2 `\n",
        "\n",
        "---\n",
        "\n",
        "\n",
        "Predict Final CGPA based on GPs of first two years.\n",
        "# `Implementation of Linear Regression`"
      ],
      "metadata": {
        "id": "AZ9MOLAf5hFY"
      }
    },
    {
      "cell_type": "code",
      "source": [
        "model_2_LR = LinearRegression()\n",
        "model_2_LR.fit(x_train,y_train)"
      ],
      "metadata": {
        "colab": {
          "base_uri": "https://localhost:8080/"
        },
        "id": "kSGdjT8e6YXI",
        "outputId": "cb797403-f063-4cb8-95e7-9688db6c163d"
      },
      "execution_count": 195,
      "outputs": [
        {
          "output_type": "execute_result",
          "data": {
            "text/plain": [
              "LinearRegression()"
            ]
          },
          "metadata": {},
          "execution_count": 195
        }
      ]
    },
    {
      "cell_type": "code",
      "source": [
        "model_2_LR_score = model_2_LR.score(x_train, y_train)\n",
        "print('Training Score:' , round(model_2_LR_score*100, 3) , '%')"
      ],
      "metadata": {
        "colab": {
          "base_uri": "https://localhost:8080/"
        },
        "id": "KQ1gXrst65d7",
        "outputId": "9d90173f-d8f0-44bb-9731-4ebbe135eaf3"
      },
      "execution_count": 196,
      "outputs": [
        {
          "output_type": "stream",
          "name": "stdout",
          "text": [
            "Training Score: 90.365 %\n"
          ]
        }
      ]
    },
    {
      "cell_type": "code",
      "source": [
        "y_LR_2 = model_2_LR.predict(x_test)"
      ],
      "metadata": {
        "id": "FrmIG82H7PXP"
      },
      "execution_count": 197,
      "outputs": []
    },
    {
      "cell_type": "code",
      "source": [
        "model_2_LR_score = model_2_LR.score(x_test, y_test)\n",
        "print('Testing Score:' , round(model_2_LR_score*100, 3) , '%')"
      ],
      "metadata": {
        "colab": {
          "base_uri": "https://localhost:8080/"
        },
        "id": "ld3E_N4X7hmm",
        "outputId": "a1633f9d-64bf-47f3-f79c-405a166a01fc"
      },
      "execution_count": 198,
      "outputs": [
        {
          "output_type": "stream",
          "name": "stdout",
          "text": [
            "Testing Score: 92.285 %\n"
          ]
        }
      ]
    },
    {
      "cell_type": "markdown",
      "source": [
        "# `Predicting CGPA by providing GPs of 1st and 2nd year Courses`"
      ],
      "metadata": {
        "id": "EW-yZ8Mm8gLf"
      }
    },
    {
      "cell_type": "code",
      "source": [
        "lst_LR = []\n",
        "x_col = x_model2.columns\n",
        "\n",
        "for i in x_col:\n",
        "  enter = int(input(f'Enter grade of: \\n{i}: '))\n",
        "  lst_LR.append(enter)\n",
        "lst_LR =[lst_LR]\n",
        "\n",
        "\n",
        "lst_LR_predict=model_2_LR.predict(lst_LR)\n",
        "lim_gpa2=np.clip(lst_LR_predict[0][0], a_min = 0, a_max = 4)\n",
        "print('CGPA: ' , round(lim_gpa2, 3))\n"
      ],
      "metadata": {
        "colab": {
          "base_uri": "https://localhost:8080/"
        },
        "id": "Jl39ZfF69Rb3",
        "outputId": "94489069-3469-4f1c-f26a-c813452209a8"
      },
      "execution_count": 199,
      "outputs": [
        {
          "output_type": "stream",
          "name": "stdout",
          "text": [
            "Enter grade of: \n",
            "PH-121: 8\n",
            "Enter grade of: \n",
            "HS-101: 9\n",
            "Enter grade of: \n",
            "CY-105: 8\n",
            "Enter grade of: \n",
            "HS-105/12: 9\n",
            "Enter grade of: \n",
            "MT-111: 8\n",
            "Enter grade of: \n",
            "CS-105: 9\n",
            "Enter grade of: \n",
            "CS-106: 9\n",
            "Enter grade of: \n",
            "EL-102: 8\n",
            "Enter grade of: \n",
            "EE-119: 9\n",
            "Enter grade of: \n",
            "ME-107: 8\n",
            "Enter grade of: \n",
            "CS-107: 9\n",
            "Enter grade of: \n",
            "HS-205/20: 8\n",
            "Enter grade of: \n",
            "MT-222: 9\n",
            "Enter grade of: \n",
            "EE-222: 8\n",
            "Enter grade of: \n",
            "MT-224: 9\n",
            "Enter grade of: \n",
            "CS-210: 8\n",
            "Enter grade of: \n",
            "CS-211: 9\n",
            "Enter grade of: \n",
            "CS-203: 9\n",
            "Enter grade of: \n",
            "CS-214: 8\n",
            "Enter grade of: \n",
            "EE-217: 9\n",
            "Enter grade of: \n",
            "CS-212: 8\n",
            "Enter grade of: \n",
            "CS-215: 9\n",
            "CGPA:  2.191\n"
          ]
        },
        {
          "output_type": "stream",
          "name": "stderr",
          "text": [
            "/usr/local/lib/python3.7/dist-packages/sklearn/base.py:451: UserWarning: X does not have valid feature names, but LinearRegression was fitted with feature names\n",
            "  \"X does not have valid feature names, but\"\n"
          ]
        }
      ]
    },
    {
      "cell_type": "markdown",
      "source": [
        "# `Evaluating Linear Regression for Model 2`"
      ],
      "metadata": {
        "id": "Tq8svkIYZLGD"
      }
    },
    {
      "cell_type": "markdown",
      "source": [
        "# i) Mean Squared Error"
      ],
      "metadata": {
        "id": "ze0oooFYZ8c4"
      }
    },
    {
      "cell_type": "code",
      "source": [
        "# mean_squared_error\n",
        "mse_lr_model2 = mean_squared_error(y_test, y_LR_2)\n",
        "print(\"i - Mean Squared Error:\", round(mse_lr_model2, 3))\n"
      ],
      "metadata": {
        "colab": {
          "base_uri": "https://localhost:8080/"
        },
        "id": "nINncV5_ZRLf",
        "outputId": "560f63c1-4dcc-45b1-d733-8b58c068b10f"
      },
      "execution_count": 200,
      "outputs": [
        {
          "output_type": "stream",
          "name": "stdout",
          "text": [
            "i - Mean Squared Error: 0.028\n"
          ]
        }
      ]
    },
    {
      "cell_type": "markdown",
      "source": [
        "# Root Mean Squared Error"
      ],
      "metadata": {
        "id": "Qwh-aHMjb0XG"
      }
    },
    {
      "cell_type": "code",
      "source": [
        "#root mean_squared_error\n",
        "rmse_lr_model2 = mean_squared_error(y_test, y_LR_2, squared=False)\n",
        "print(\"ii - Root Mean Squared Error:\", round(rmse_lr_model2, 3))\n"
      ],
      "metadata": {
        "colab": {
          "base_uri": "https://localhost:8080/"
        },
        "id": "ob7zJJU-cAYR",
        "outputId": "6f74c933-02fe-495d-9488-3d7f5eb3b8f1"
      },
      "execution_count": 201,
      "outputs": [
        {
          "output_type": "stream",
          "name": "stdout",
          "text": [
            "ii - Root Mean Squared Error: 0.169\n"
          ]
        }
      ]
    },
    {
      "cell_type": "markdown",
      "source": [
        "#iii) Mean Absolute Error"
      ],
      "metadata": {
        "id": "0kC8Q2jgdUw5"
      }
    },
    {
      "cell_type": "code",
      "source": [
        "#mean_absolute_error\n",
        "mae_lr_model2 = mean_absolute_error(y_test, y_LR_2)\n",
        "print(\"iii - Mean Absolute Error:\", round(mae_lr_model2, 3))\n"
      ],
      "metadata": {
        "colab": {
          "base_uri": "https://localhost:8080/"
        },
        "id": "UECU-j1idlZo",
        "outputId": "d7448671-e183-4498-9555-e1fe211b95a2"
      },
      "execution_count": 202,
      "outputs": [
        {
          "output_type": "stream",
          "name": "stdout",
          "text": [
            "iii - Mean Absolute Error: 0.128\n"
          ]
        }
      ]
    },
    {
      "cell_type": "code",
      "source": [
        "print(\"i - Mean Squared Error:\", round(mse_lr_model2, 3))\n",
        "print(\"ii - Root Mean Squared Error:\", round(rmse_lr_model2, 3))\n",
        "print(\"iii - Mean Absolute Error:\", round(mae_lr_model2, 3))\n",
        "\n"
      ],
      "metadata": {
        "colab": {
          "base_uri": "https://localhost:8080/"
        },
        "id": "dbyEm4hxd5Ng",
        "outputId": "c5cc28e5-ede7-4661-cf84-e088894c3e81"
      },
      "execution_count": 203,
      "outputs": [
        {
          "output_type": "stream",
          "name": "stdout",
          "text": [
            "i - Mean Squared Error: 0.028\n",
            "ii - Root Mean Squared Error: 0.169\n",
            "iii - Mean Absolute Error: 0.128\n"
          ]
        }
      ]
    },
    {
      "cell_type": "markdown",
      "source": [
        "# `Comparision of Two Models`"
      ],
      "metadata": {
        "id": "lZV6YJ-N0LKe"
      }
    },
    {
      "cell_type": "code",
      "source": [
        "xcords = np.array(['Mean Squared Error', 'Root Mean Squared Error','Mean Absolute Error'])\n",
        "ycords1 = np.array([mse_lr_model3, rmse_lr_model3, mae_lr_model3])\n",
        "ycords2 = np.array([mse_svr_model3, rmse_svr_model3, mae_svr_model3])\n",
        "ycords3 = np.array([mse_rf_model2, rmse_rf_model2, mae_rf_model2])\n",
        "ycords4 = np.array([mse_lr_model2, rmse_lr_model2, mae_lr_model2])\n",
        "plt.plot(xcords, ycords1,  label=\"Lin Reg - Model 3\", marker='o')\n",
        "plt.plot(xcords, ycords2,  label=\"SVM - Model 3\", marker='o')\n",
        "plt.plot(xcords, ycords3,  label=\"Rand Forest - Model 2\", linestyle=\"--\", marker='o')   #The graph is showing Comparison between different algorithm learned on a same dataset\n",
        "plt.plot(xcords, ycords4,  label=\"Lin Reg - Model 2\", marker='o', linestyle=\"--\")       #The errors are just compared \n",
        "\n",
        "plt.legend()\n",
        "plt.show()\n"
      ],
      "metadata": {
        "colab": {
          "base_uri": "https://localhost:8080/",
          "height": 265
        },
        "id": "QGPNYUaW0UIS",
        "outputId": "894e217d-6c7b-4c99-879f-7260aa505b6a"
      },
      "execution_count": 206,
      "outputs": [
        {
          "output_type": "display_data",
          "data": {
            "text/plain": [
              "<Figure size 432x288 with 1 Axes>"
            ],
            "image/png": "[encoded data removed]"
          },
          "metadata": {
            "needs_background": "light"
          }
        }
      ]
    },
    {
      "cell_type": "code",
      "source": [
        ""
      ],
      "metadata": {
        "id": "RTHwT1gP5QzE"
      },
      "execution_count": 204,
      "outputs": []
    }
  ]
}